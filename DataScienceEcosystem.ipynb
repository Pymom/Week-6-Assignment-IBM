{
 "cells": [
  {
   "cell_type": "markdown",
   "id": "46c2e0b3-f268-4d64-b6a6-ce5fcf6e9559",
   "metadata": {},
   "source": [
    "# Data Science Tools and Ecosystem"
   ]
  },
  {
   "cell_type": "markdown",
   "id": "b0d21949-8528-4c7c-9d5e-0de8de5cd9a3",
   "metadata": {},
   "source": [
    "In this notebook, Data Science Tools and Ecosystem are summarized."
   ]
  },
  {
   "cell_type": "markdown",
   "id": "415822ad-3add-4f90-bec4-6dadd4b3258f",
   "metadata": {},
   "source": [
    "**Objectives**\n",
    "- List popular languages that Data Scientists use.\n",
    "- List commonly used libraries used by Data Scientists.\n",
    "- Comment on Data Science tools.\n",
    "- Code basic math and time conversions in Python\n"
   ]
  },
  {
   "cell_type": "markdown",
   "id": "a25f5778-9d77-43eb-9bb4-2007ebca2a4a",
   "metadata": {},
   "source": [
    "Some of the popular languages that Data Scientists use are:\n",
    "1. R\n",
    "2. SQL\n",
    "3. Python\n",
    "4. JavaScript\n",
    "5. Scala"
   ]
  },
  {
   "cell_type": "markdown",
   "id": "89de4887-7c4c-4c44-9183-bcedcd5e835e",
   "metadata": {},
   "source": [
    "Some of the commonly used libraries used by Data Scientists include:\n",
    "1. Scipy\n",
    "2. Pandas\n",
    "3. Numpy\n",
    "4. Tensorflow\n",
    "5. Pytorch\n"
   ]
  },
  {
   "cell_type": "markdown",
   "id": "513a4491-a2db-42d4-936c-ad9e067ce4ad",
   "metadata": {},
   "source": [
    "| Data Science Tools |\n",
    "| -------------| \n",
    "| SQL|\n",
    "|RStudio|\n",
    "BigML |\n"
   ]
  },
  {
   "cell_type": "markdown",
   "id": "d9a9d014-ed00-4c63-929f-7133083e5a81",
   "metadata": {},
   "source": [
    "### Below are a few examples of evaluating arithmetic expressions in Python"
   ]
  },
  {
   "cell_type": "code",
   "execution_count": 2,
   "id": "1b0505d9-657d-4702-a6b0-a636fd52c154",
   "metadata": {},
   "outputs": [
    {
     "data": {
      "text/plain": [
       "17"
      ]
     },
     "execution_count": 2,
     "metadata": {},
     "output_type": "execute_result"
    }
   ],
   "source": [
    "#This a simple arithmetic expression to mutiply then add integers\n",
    "(3*4)+5"
   ]
  },
  {
   "cell_type": "code",
   "execution_count": 4,
   "id": "7935fe54-65d1-446b-90a9-b188b09b58cb",
   "metadata": {},
   "outputs": [
    {
     "name": "stdout",
     "output_type": "stream",
     "text": [
      "0 days, 3.3333333333333335 hours, 0 mins. \n"
     ]
    }
   ],
   "source": [
    "# This will convert 200 minutes to hours by diving by 60\n",
    "days = 0\n",
    "hours = 0\n",
    "mins = 0\n",
    "\n",
    "time = 200\n",
    "#days = time / 1440\n",
    "leftover_minutes = time % 1440\n",
    "hours = leftover_minutes / 60\n",
    "#mins = time - (days*1440) - (hours*60)\n",
    "print(str(days) + \" days, \" + str(hours) + \" hours, \" + str(mins) +  \" mins. \")\n"
   ]
  },
  {
   "cell_type": "markdown",
   "id": "f418386e-e056-4339-ba2e-15970b1f1803",
   "metadata": {},
   "source": [
    "## Author"
   ]
  },
  {
   "cell_type": "markdown",
   "id": "415f4f30-26cd-4b5b-b6f2-4bf9a308fe35",
   "metadata": {},
   "source": [
    "Cortney Shewbart"
   ]
  }
 ],
 "metadata": {
  "kernelspec": {
   "display_name": "Python 3 (ipykernel)",
   "language": "python",
   "name": "python3"
  },
  "language_info": {
   "codemirror_mode": {
    "name": "ipython",
    "version": 3
   },
   "file_extension": ".py",
   "mimetype": "text/x-python",
   "name": "python",
   "nbconvert_exporter": "python",
   "pygments_lexer": "ipython3",
   "version": "3.11.7"
  }
 },
 "nbformat": 4,
 "nbformat_minor": 5
}
